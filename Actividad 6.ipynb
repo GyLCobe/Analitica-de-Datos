{
 "cells": [
  {
   "cell_type": "markdown",
   "id": "04cf1ec9-56de-41b9-9a0b-57445e1588b7",
   "metadata": {},
   "source": [
    "# Actividad 6 \n",
    "# Materia\n",
    "###  Analitica de Datos \n",
    "###  Alumno  > Corona Benitez Gilberto \n",
    "### Codigo  > 210084857\n",
    "### Profesor > JOSE ANTONIO ORIZAGA TREJO\n",
    "\n",
    "### UNIVERSIDAD DE GUADALAJARA > CENTRO UNIVERSITARIO DE CIENCIAS ECONOMICAS ADMINISTRATIVAS \n",
    "\n",
    "\n"
   ]
  },
  {
   "cell_type": "markdown",
   "id": "c6a8ef7f-b768-400b-92ac-b6a48553d1b8",
   "metadata": {},
   "source": [
    "### 1- Carga de datos "
   ]
  },
  {
   "attachments": {
    "09c49c6e-407f-435d-a3ab-b3c055861b92.png": {
     "image/png": "[encoded data removed]"
    }
   },
   "cell_type": "markdown",
   "id": "1835d5dd-8950-4d6f-8f49-fa7c015efc7a",
   "metadata": {},
   "source": [
    "### Primero cargamos el archivo que necesitamos en la misma carpeta donde estamos trabajando\n",
    "![image.png](attachment:09c49c6e-407f-435d-a3ab-b3c055861b92.png)"
   ]
  },
  {
   "cell_type": "markdown",
   "id": "8415bcd0-58a9-4b39-ab0e-79566d6f6268",
   "metadata": {},
   "source": [
    "### Importamos la libreria "
   ]
  },
  {
   "cell_type": "code",
   "execution_count": 10,
   "id": "20909ea2-1851-4569-bf16-d789403130cf",
   "metadata": {},
   "outputs": [],
   "source": [
    "import pandas as pd"
   ]
  },
  {
   "cell_type": "markdown",
   "id": "6b458bf4-45d6-416c-baf9-a5366aef377a",
   "metadata": {},
   "source": [
    "### Agregamos los datos "
   ]
  },
  {
   "cell_type": "code",
   "execution_count": 12,
   "id": "9f6de64c-eb17-423d-96ba-b6f675a874ec",
   "metadata": {},
   "outputs": [],
   "source": [
    "file_path = \"Data_Salaries.csv\""
   ]
  },
  {
   "cell_type": "code",
   "execution_count": 147,
   "id": "c4c0617b-db91-4141-a9bb-e65b144b84d2",
   "metadata": {},
   "outputs": [],
   "source": [
    "data = pd.read_csv(file_path)"
   ]
  },
  {
   "cell_type": "code",
   "execution_count": 18,
   "id": "9da56155-5804-4411-9608-c083e48928d2",
   "metadata": {},
   "outputs": [
    {
     "data": {
      "text/html": [
       "<div>\n",
       "<style scoped>\n",
       "    .dataframe tbody tr th:only-of-type {\n",
       "        vertical-align: middle;\n",
       "    }\n",
       "\n",
       "    .dataframe tbody tr th {\n",
       "        vertical-align: top;\n",
       "    }\n",
       "\n",
       "    .dataframe thead th {\n",
       "        text-align: right;\n",
       "    }\n",
       "</style>\n",
       "<table border=\"1\" class=\"dataframe\">\n",
       "  <thead>\n",
       "    <tr style=\"text-align: right;\">\n",
       "      <th></th>\n",
       "      <th>Company</th>\n",
       "      <th>Company Score</th>\n",
       "      <th>Job Title</th>\n",
       "      <th>Location</th>\n",
       "      <th>Salary</th>\n",
       "    </tr>\n",
       "  </thead>\n",
       "  <tbody>\n",
       "    <tr>\n",
       "      <th>0</th>\n",
       "      <td>PepsiCo</td>\n",
       "      <td>3.9</td>\n",
       "      <td>2025 Summer Intern: R&amp;D</td>\n",
       "      <td>Plano, TX</td>\n",
       "      <td>$21.50 - $55.40 Per Hour (Employer est.)</td>\n",
       "    </tr>\n",
       "    <tr>\n",
       "      <th>1</th>\n",
       "      <td>ghSMART</td>\n",
       "      <td>4.8</td>\n",
       "      <td>Data Engineer Intern</td>\n",
       "      <td>Remote</td>\n",
       "      <td>$20.00 - $30.00 Per Hour (Employer est.)</td>\n",
       "    </tr>\n",
       "    <tr>\n",
       "      <th>2</th>\n",
       "      <td>PepsiCo</td>\n",
       "      <td>3.9</td>\n",
       "      <td>2025 Summer Intern: eCommerce Data Science</td>\n",
       "      <td>United States</td>\n",
       "      <td>$21.50 - $40.19 Per Hour (Employer est.)</td>\n",
       "    </tr>\n",
       "    <tr>\n",
       "      <th>3</th>\n",
       "      <td>U.S. Bank National Association</td>\n",
       "      <td>3.6</td>\n",
       "      <td>2025 Data Analytics Summer Intern</td>\n",
       "      <td>Minneapolis, MN</td>\n",
       "      <td>$20.63 - $30.25 Per Hour (Employer est.)</td>\n",
       "    </tr>\n",
       "    <tr>\n",
       "      <th>4</th>\n",
       "      <td>Plymouth Rock Assurance</td>\n",
       "      <td>3.4</td>\n",
       "      <td>Fall 2024 Data Science/Predictive Modeler Intern</td>\n",
       "      <td>Woodbridge, NJ</td>\n",
       "      <td>$77K - $130K (Glassdoor est.)</td>\n",
       "    </tr>\n",
       "  </tbody>\n",
       "</table>\n",
       "</div>"
      ],
      "text/plain": [
       "                          Company  Company Score  \\\n",
       "0                         PepsiCo            3.9   \n",
       "1                         ghSMART            4.8   \n",
       "2                         PepsiCo            3.9   \n",
       "3  U.S. Bank National Association            3.6   \n",
       "4         Plymouth Rock Assurance            3.4   \n",
       "\n",
       "                                          Job Title         Location  \\\n",
       "0                           2025 Summer Intern: R&D        Plano, TX   \n",
       "1                              Data Engineer Intern           Remote   \n",
       "2        2025 Summer Intern: eCommerce Data Science    United States   \n",
       "3                 2025 Data Analytics Summer Intern  Minneapolis, MN   \n",
       "4  Fall 2024 Data Science/Predictive Modeler Intern   Woodbridge, NJ   \n",
       "\n",
       "                                     Salary  \n",
       "0  $21.50 - $55.40 Per Hour (Employer est.)  \n",
       "1  $20.00 - $30.00 Per Hour (Employer est.)  \n",
       "2  $21.50 - $40.19 Per Hour (Employer est.)  \n",
       "3  $20.63 - $30.25 Per Hour (Employer est.)  \n",
       "4             $77K - $130K (Glassdoor est.)  "
      ]
     },
     "execution_count": 18,
     "metadata": {},
     "output_type": "execute_result"
    }
   ],
   "source": [
    "data.head()"
   ]
  },
  {
   "cell_type": "markdown",
   "id": "3dbb872f-ae11-455f-b91f-a2ca6fe9e5cd",
   "metadata": {},
   "source": [
    "### 2- Analisis "
   ]
  },
  {
   "cell_type": "markdown",
   "id": "fd3bf293-de48-4e98-88af-75d60f25da21",
   "metadata": {},
   "source": [
    "### Nos muestra la informacion general del data frame"
   ]
  },
  {
   "cell_type": "code",
   "execution_count": 20,
   "id": "05402e96-ea8b-406c-b839-7bd5c1755cba",
   "metadata": {},
   "outputs": [
    {
     "name": "stdout",
     "output_type": "stream",
     "text": [
      "<class 'pandas.core.frame.DataFrame'>\n",
      "RangeIndex: 649 entries, 0 to 648\n",
      "Data columns (total 5 columns):\n",
      " #   Column         Non-Null Count  Dtype  \n",
      "---  ------         --------------  -----  \n",
      " 0   Company        648 non-null    object \n",
      " 1   Company Score  551 non-null    float64\n",
      " 2   Job Title      649 non-null    object \n",
      " 3   Location       642 non-null    object \n",
      " 4   Salary         503 non-null    object \n",
      "dtypes: float64(1), object(4)\n",
      "memory usage: 25.5+ KB\n"
     ]
    }
   ],
   "source": [
    "data.info()"
   ]
  },
  {
   "cell_type": "markdown",
   "id": "5e4747bc-70b5-43ad-b090-f534253bdc48",
   "metadata": {},
   "source": [
    "### Aqui se esta mostrando las estadisticas descriptivas de las columnas "
   ]
  },
  {
   "cell_type": "code",
   "execution_count": 22,
   "id": "9dbbe5f8-c431-48b1-a52c-76b72712d8ad",
   "metadata": {},
   "outputs": [
    {
     "data": {
      "text/html": [
       "<div>\n",
       "<style scoped>\n",
       "    .dataframe tbody tr th:only-of-type {\n",
       "        vertical-align: middle;\n",
       "    }\n",
       "\n",
       "    .dataframe tbody tr th {\n",
       "        vertical-align: top;\n",
       "    }\n",
       "\n",
       "    .dataframe thead th {\n",
       "        text-align: right;\n",
       "    }\n",
       "</style>\n",
       "<table border=\"1\" class=\"dataframe\">\n",
       "  <thead>\n",
       "    <tr style=\"text-align: right;\">\n",
       "      <th></th>\n",
       "      <th>Company Score</th>\n",
       "    </tr>\n",
       "  </thead>\n",
       "  <tbody>\n",
       "    <tr>\n",
       "      <th>count</th>\n",
       "      <td>551.000000</td>\n",
       "    </tr>\n",
       "    <tr>\n",
       "      <th>mean</th>\n",
       "      <td>3.739927</td>\n",
       "    </tr>\n",
       "    <tr>\n",
       "      <th>std</th>\n",
       "      <td>0.510012</td>\n",
       "    </tr>\n",
       "    <tr>\n",
       "      <th>min</th>\n",
       "      <td>1.000000</td>\n",
       "    </tr>\n",
       "    <tr>\n",
       "      <th>25%</th>\n",
       "      <td>3.500000</td>\n",
       "    </tr>\n",
       "    <tr>\n",
       "      <th>50%</th>\n",
       "      <td>3.800000</td>\n",
       "    </tr>\n",
       "    <tr>\n",
       "      <th>75%</th>\n",
       "      <td>4.000000</td>\n",
       "    </tr>\n",
       "    <tr>\n",
       "      <th>max</th>\n",
       "      <td>5.000000</td>\n",
       "    </tr>\n",
       "  </tbody>\n",
       "</table>\n",
       "</div>"
      ],
      "text/plain": [
       "       Company Score\n",
       "count     551.000000\n",
       "mean        3.739927\n",
       "std         0.510012\n",
       "min         1.000000\n",
       "25%         3.500000\n",
       "50%         3.800000\n",
       "75%         4.000000\n",
       "max         5.000000"
      ]
     },
     "execution_count": 22,
     "metadata": {},
     "output_type": "execute_result"
    }
   ],
   "source": [
    "data.describe()"
   ]
  },
  {
   "cell_type": "markdown",
   "id": "742fa7c1-3916-452c-b99c-ebea742ffcfd",
   "metadata": {},
   "source": [
    "### 3- Limpieza de datos"
   ]
  },
  {
   "cell_type": "markdown",
   "id": "53ee84c3-9df3-42b8-9967-16191e85205e",
   "metadata": {},
   "source": [
    "### Eliminamos filas con valores nulos "
   ]
  },
  {
   "cell_type": "code",
   "execution_count": 28,
   "id": "28e3f215-8b57-4afb-946c-c2c0e8b9c030",
   "metadata": {},
   "outputs": [
    {
     "data": {
      "text/plain": [
       "<bound method DataFrame.sum of      Company  Company Score  Job Title  Location  Salary\n",
       "0      False          False      False     False   False\n",
       "1      False          False      False     False   False\n",
       "2      False          False      False     False   False\n",
       "3      False          False      False     False   False\n",
       "4      False          False      False     False   False\n",
       "..       ...            ...        ...       ...     ...\n",
       "644    False           True      False     False    True\n",
       "645    False           True      False     False    True\n",
       "646    False           True      False     False    True\n",
       "647    False           True      False     False    True\n",
       "648     True           True      False     False    True\n",
       "\n",
       "[649 rows x 5 columns]>"
      ]
     },
     "execution_count": 28,
     "metadata": {},
     "output_type": "execute_result"
    }
   ],
   "source": [
    "data.isnull().sum"
   ]
  },
  {
   "cell_type": "markdown",
   "id": "7c2b9b64-6a67-401f-b100-cd6ff06ade12",
   "metadata": {},
   "source": [
    "### va a eliminar filas vacias"
   ]
  },
  {
   "cell_type": "code",
   "execution_count": 57,
   "id": "1abbdd50-211a-4e2e-802c-e0b030f94b14",
   "metadata": {},
   "outputs": [],
   "source": [
    "data= data.dropna()"
   ]
  },
  {
   "cell_type": "markdown",
   "id": "36ac644d-1010-4607-ae9f-0c235ea280ed",
   "metadata": {},
   "source": [
    "### Aqui revisamos como se limpiaron los datos"
   ]
  },
  {
   "cell_type": "markdown",
   "id": "9cfe4395-6ea2-44fd-8c1e-30631e2a5bd5",
   "metadata": {},
   "source": [
    "### Mostramos las primeras columnas de limpieza "
   ]
  },
  {
   "cell_type": "code",
   "execution_count": 61,
   "id": "9999d6b9-5d72-4169-8e60-fb854ca513eb",
   "metadata": {},
   "outputs": [
    {
     "data": {
      "text/html": [
       "<div>\n",
       "<style scoped>\n",
       "    .dataframe tbody tr th:only-of-type {\n",
       "        vertical-align: middle;\n",
       "    }\n",
       "\n",
       "    .dataframe tbody tr th {\n",
       "        vertical-align: top;\n",
       "    }\n",
       "\n",
       "    .dataframe thead th {\n",
       "        text-align: right;\n",
       "    }\n",
       "</style>\n",
       "<table border=\"1\" class=\"dataframe\">\n",
       "  <thead>\n",
       "    <tr style=\"text-align: right;\">\n",
       "      <th></th>\n",
       "      <th>Company</th>\n",
       "      <th>Job Title</th>\n",
       "      <th>Location</th>\n",
       "      <th>Salary</th>\n",
       "    </tr>\n",
       "  </thead>\n",
       "  <tbody>\n",
       "    <tr>\n",
       "      <th>0</th>\n",
       "      <td>PepsiCo</td>\n",
       "      <td>2025 Summer Intern: R&amp;D</td>\n",
       "      <td>Plano, TX</td>\n",
       "      <td>$21.50 - $55.40 Per Hour (Employer est.)</td>\n",
       "    </tr>\n",
       "    <tr>\n",
       "      <th>1</th>\n",
       "      <td>ghSMART</td>\n",
       "      <td>Data Engineer Intern</td>\n",
       "      <td>Remote</td>\n",
       "      <td>$20.00 - $30.00 Per Hour (Employer est.)</td>\n",
       "    </tr>\n",
       "    <tr>\n",
       "      <th>2</th>\n",
       "      <td>PepsiCo</td>\n",
       "      <td>2025 Summer Intern: eCommerce Data Science</td>\n",
       "      <td>United States</td>\n",
       "      <td>$21.50 - $40.19 Per Hour (Employer est.)</td>\n",
       "    </tr>\n",
       "    <tr>\n",
       "      <th>3</th>\n",
       "      <td>U.S. Bank National Association</td>\n",
       "      <td>2025 Data Analytics Summer Intern</td>\n",
       "      <td>Minneapolis, MN</td>\n",
       "      <td>$20.63 - $30.25 Per Hour (Employer est.)</td>\n",
       "    </tr>\n",
       "    <tr>\n",
       "      <th>4</th>\n",
       "      <td>Plymouth Rock Assurance</td>\n",
       "      <td>Fall 2024 Data Science/Predictive Modeler Intern</td>\n",
       "      <td>Woodbridge, NJ</td>\n",
       "      <td>$77K - $130K (Glassdoor est.)</td>\n",
       "    </tr>\n",
       "  </tbody>\n",
       "</table>\n",
       "</div>"
      ],
      "text/plain": [
       "                          Company  \\\n",
       "0                         PepsiCo   \n",
       "1                         ghSMART   \n",
       "2                         PepsiCo   \n",
       "3  U.S. Bank National Association   \n",
       "4         Plymouth Rock Assurance   \n",
       "\n",
       "                                          Job Title         Location  \\\n",
       "0                           2025 Summer Intern: R&D        Plano, TX   \n",
       "1                              Data Engineer Intern           Remote   \n",
       "2        2025 Summer Intern: eCommerce Data Science    United States   \n",
       "3                 2025 Data Analytics Summer Intern  Minneapolis, MN   \n",
       "4  Fall 2024 Data Science/Predictive Modeler Intern   Woodbridge, NJ   \n",
       "\n",
       "                                     Salary  \n",
       "0  $21.50 - $55.40 Per Hour (Employer est.)  \n",
       "1  $20.00 - $30.00 Per Hour (Employer est.)  \n",
       "2  $21.50 - $40.19 Per Hour (Employer est.)  \n",
       "3  $20.63 - $30.25 Per Hour (Employer est.)  \n",
       "4             $77K - $130K (Glassdoor est.)  "
      ]
     },
     "execution_count": 61,
     "metadata": {},
     "output_type": "execute_result"
    }
   ],
   "source": [
    "cleaned_data.head()"
   ]
  },
  {
   "cell_type": "markdown",
   "id": "3b719562-3df9-49c8-ab27-40ef4ccc377d",
   "metadata": {},
   "source": [
    "### Guardamos los datos "
   ]
  },
  {
   "cell_type": "code",
   "execution_count": 55,
   "id": "9629971b-b92e-4d4e-be36-779d1a5aa301",
   "metadata": {},
   "outputs": [],
   "source": [
    "data.to_csv('limpios.csv')"
   ]
  },
  {
   "cell_type": "markdown",
   "id": "a17c9b51-9695-42a5-97e9-9e70e9378f03",
   "metadata": {},
   "source": [
    "### Guardamos los cambios ya realizados "
   ]
  },
  {
   "cell_type": "code",
   "execution_count": 68,
   "id": "565c09ba-a54c-46fb-b895-06c9903dfb40",
   "metadata": {},
   "outputs": [],
   "source": [
    "cleaned_data.to_csv(\"Resultado_2.csv\", index=False)"
   ]
  },
  {
   "cell_type": "markdown",
   "id": "882c9d77-8188-4855-b0d7-6b9e49a12c07",
   "metadata": {},
   "source": [
    "### mandamos llamar el resultado "
   ]
  },
  {
   "cell_type": "code",
   "execution_count": 70,
   "id": "21d92a5d-c088-4301-84e4-b5c8bc8feef1",
   "metadata": {},
   "outputs": [],
   "source": [
    "data1 = pd.read_csv('Resultado_2.csv')"
   ]
  },
  {
   "cell_type": "code",
   "execution_count": 73,
   "id": "da54c3e1-56d3-4f2f-9caa-9a1f77b1155b",
   "metadata": {},
   "outputs": [
    {
     "data": {
      "text/html": [
       "<div>\n",
       "<style scoped>\n",
       "    .dataframe tbody tr th:only-of-type {\n",
       "        vertical-align: middle;\n",
       "    }\n",
       "\n",
       "    .dataframe tbody tr th {\n",
       "        vertical-align: top;\n",
       "    }\n",
       "\n",
       "    .dataframe thead th {\n",
       "        text-align: right;\n",
       "    }\n",
       "</style>\n",
       "<table border=\"1\" class=\"dataframe\">\n",
       "  <thead>\n",
       "    <tr style=\"text-align: right;\">\n",
       "      <th></th>\n",
       "      <th>Company</th>\n",
       "      <th>Job Title</th>\n",
       "      <th>Location</th>\n",
       "      <th>Salary</th>\n",
       "    </tr>\n",
       "  </thead>\n",
       "  <tbody>\n",
       "    <tr>\n",
       "      <th>0</th>\n",
       "      <td>PepsiCo</td>\n",
       "      <td>2025 Summer Intern: R&amp;D</td>\n",
       "      <td>Plano, TX</td>\n",
       "      <td>$21.50 - $55.40 Per Hour (Employer est.)</td>\n",
       "    </tr>\n",
       "    <tr>\n",
       "      <th>1</th>\n",
       "      <td>ghSMART</td>\n",
       "      <td>Data Engineer Intern</td>\n",
       "      <td>Remote</td>\n",
       "      <td>$20.00 - $30.00 Per Hour (Employer est.)</td>\n",
       "    </tr>\n",
       "    <tr>\n",
       "      <th>2</th>\n",
       "      <td>PepsiCo</td>\n",
       "      <td>2025 Summer Intern: eCommerce Data Science</td>\n",
       "      <td>United States</td>\n",
       "      <td>$21.50 - $40.19 Per Hour (Employer est.)</td>\n",
       "    </tr>\n",
       "    <tr>\n",
       "      <th>3</th>\n",
       "      <td>U.S. Bank National Association</td>\n",
       "      <td>2025 Data Analytics Summer Intern</td>\n",
       "      <td>Minneapolis, MN</td>\n",
       "      <td>$20.63 - $30.25 Per Hour (Employer est.)</td>\n",
       "    </tr>\n",
       "    <tr>\n",
       "      <th>4</th>\n",
       "      <td>Plymouth Rock Assurance</td>\n",
       "      <td>Fall 2024 Data Science/Predictive Modeler Intern</td>\n",
       "      <td>Woodbridge, NJ</td>\n",
       "      <td>$77K - $130K (Glassdoor est.)</td>\n",
       "    </tr>\n",
       "    <tr>\n",
       "      <th>...</th>\n",
       "      <td>...</td>\n",
       "      <td>...</td>\n",
       "      <td>...</td>\n",
       "      <td>...</td>\n",
       "    </tr>\n",
       "    <tr>\n",
       "      <th>492</th>\n",
       "      <td>Columbus Zoo Family of Parks</td>\n",
       "      <td>Intern / Co-Op Environmental Science/Engineering</td>\n",
       "      <td>Worthington, OH</td>\n",
       "      <td>$52K - $77K (Glassdoor est.)</td>\n",
       "    </tr>\n",
       "    <tr>\n",
       "      <th>493</th>\n",
       "      <td>Berkley</td>\n",
       "      <td>Ecology Apprenticeship at The Wilds</td>\n",
       "      <td>Cumberland, OH</td>\n",
       "      <td>$16.00 Per Hour (Employer est.)</td>\n",
       "    </tr>\n",
       "    <tr>\n",
       "      <th>494</th>\n",
       "      <td>Johnson Controls International</td>\n",
       "      <td>Communications Coordinator</td>\n",
       "      <td>Manassas, VA</td>\n",
       "      <td>$23.00 Per Hour (Employer est.)</td>\n",
       "    </tr>\n",
       "    <tr>\n",
       "      <th>495</th>\n",
       "      <td>Greenwich Commodities LLC</td>\n",
       "      <td>Continuous Improvement Analyst Intern</td>\n",
       "      <td>Baltimore, MD</td>\n",
       "      <td>$16.00 Per Hour (Employer est.)</td>\n",
       "    </tr>\n",
       "    <tr>\n",
       "      <th>496</th>\n",
       "      <td>Dolby</td>\n",
       "      <td>Power Trading Analyst</td>\n",
       "      <td>Denver, CO</td>\n",
       "      <td>$39.22 - $42.86 Per Hour (Employer est.)</td>\n",
       "    </tr>\n",
       "  </tbody>\n",
       "</table>\n",
       "<p>497 rows × 4 columns</p>\n",
       "</div>"
      ],
      "text/plain": [
       "                            Company  \\\n",
       "0                           PepsiCo   \n",
       "1                           ghSMART   \n",
       "2                           PepsiCo   \n",
       "3    U.S. Bank National Association   \n",
       "4           Plymouth Rock Assurance   \n",
       "..                              ...   \n",
       "492    Columbus Zoo Family of Parks   \n",
       "493                         Berkley   \n",
       "494  Johnson Controls International   \n",
       "495       Greenwich Commodities LLC   \n",
       "496                           Dolby   \n",
       "\n",
       "                                            Job Title         Location  \\\n",
       "0                             2025 Summer Intern: R&D        Plano, TX   \n",
       "1                                Data Engineer Intern           Remote   \n",
       "2          2025 Summer Intern: eCommerce Data Science    United States   \n",
       "3                   2025 Data Analytics Summer Intern  Minneapolis, MN   \n",
       "4    Fall 2024 Data Science/Predictive Modeler Intern   Woodbridge, NJ   \n",
       "..                                                ...              ...   \n",
       "492  Intern / Co-Op Environmental Science/Engineering  Worthington, OH   \n",
       "493               Ecology Apprenticeship at The Wilds   Cumberland, OH   \n",
       "494                        Communications Coordinator     Manassas, VA   \n",
       "495             Continuous Improvement Analyst Intern    Baltimore, MD   \n",
       "496                             Power Trading Analyst       Denver, CO   \n",
       "\n",
       "                                       Salary  \n",
       "0    $21.50 - $55.40 Per Hour (Employer est.)  \n",
       "1    $20.00 - $30.00 Per Hour (Employer est.)  \n",
       "2    $21.50 - $40.19 Per Hour (Employer est.)  \n",
       "3    $20.63 - $30.25 Per Hour (Employer est.)  \n",
       "4               $77K - $130K (Glassdoor est.)  \n",
       "..                                        ...  \n",
       "492              $52K - $77K (Glassdoor est.)  \n",
       "493           $16.00 Per Hour (Employer est.)  \n",
       "494           $23.00 Per Hour (Employer est.)  \n",
       "495           $16.00 Per Hour (Employer est.)  \n",
       "496  $39.22 - $42.86 Per Hour (Employer est.)  \n",
       "\n",
       "[497 rows x 4 columns]"
      ]
     },
     "execution_count": 73,
     "metadata": {},
     "output_type": "execute_result"
    }
   ],
   "source": [
    "data1"
   ]
  },
  {
   "cell_type": "markdown",
   "id": "ef43f8ac-b705-4996-b33f-96678b3d46af",
   "metadata": {},
   "source": [
    "### mandas llamar la variable "
   ]
  },
  {
   "cell_type": "markdown",
   "id": "39f1f607-4baf-499f-9aa2-fdf28aca7e3e",
   "metadata": {},
   "source": [
    "### 4- Generacion de resultados y gratificación "
   ]
  },
  {
   "cell_type": "markdown",
   "id": "5a2a11f2-2bac-4281-99d5-dabf2f533606",
   "metadata": {},
   "source": [
    "### Importamos la libreria para visualizar la graficas"
   ]
  },
  {
   "cell_type": "code",
   "execution_count": 122,
   "id": "961fad29-0467-4872-98cd-be646b1bc801",
   "metadata": {},
   "outputs": [],
   "source": [
    "import matplotlib.pyplot as plt"
   ]
  },
  {
   "cell_type": "markdown",
   "id": "baf385df-6bf7-4dc7-9e30-cfc2de6a8e9d",
   "metadata": {},
   "source": [
    "### Realizamos la carga de datos limpios "
   ]
  },
  {
   "cell_type": "code",
   "execution_count": 82,
   "id": "9754f50d-156b-40ed-bc8a-8324c354f139",
   "metadata": {},
   "outputs": [],
   "source": [
    "data_to_plot = pd.read_csv('Resultado_2.csv')"
   ]
  },
  {
   "cell_type": "markdown",
   "id": "61dee5bd-081b-41c2-ae2b-0e3ef39a0f8d",
   "metadata": {},
   "source": [
    "### configuramos el titulo de la grafica"
   ]
  },
  {
   "cell_type": "code",
   "execution_count": 84,
   "id": "1b11e893-2bc0-404f-ab68-c6b98cc3c520",
   "metadata": {},
   "outputs": [
    {
     "data": {
      "text/plain": [
       "Text(0.5, 1.0, 'Distribución de Salarios en Pasantías 2024')"
      ]
     },
     "execution_count": 84,
     "metadata": {},
     "output_type": "execute_result"
    },
    {
     "data": {
      "image/png": "[encoded data removed]",
      "text/plain": [
       "<Figure size 640x480 with 1 Axes>"
      ]
     },
     "metadata": {},
     "output_type": "display_data"
    }
   ],
   "source": [
    "plt.title(\"Distribución de Salarios en Pasantías 2024\")"
   ]
  },
  {
   "cell_type": "markdown",
   "id": "7cb89787-3bbf-4fc8-8cbf-e07b640f27ae",
   "metadata": {},
   "source": [
    "### Agregamos las etiquetas y el titulo"
   ]
  },
  {
   "cell_type": "code",
   "execution_count": 135,
   "id": "39b33605-c1b2-4054-ad72-f78f3d280cd0",
   "metadata": {},
   "outputs": [
    {
     "data": {
      "text/plain": [
       "Text(0.5, 1.0, 'Distribución de Salarios en Pasantías 2024')"
      ]
     },
     "execution_count": 135,
     "metadata": {},
     "output_type": "execute_result"
    },
    {
     "data": {
      "image/png": "[encoded data removed]",
      "text/plain": [
       "<Figure size 640x480 with 1 Axes>"
      ]
     },
     "metadata": {},
     "output_type": "display_data"
    }
   ],
   "source": [
    "plt.title(\"Distribución de Salarios en Pasantías 2024\")"
   ]
  },
  {
   "cell_type": "markdown",
   "id": "5835d8a7-073e-4f12-9b82-5f6fe36e53ec",
   "metadata": {},
   "source": [
    "### Aqui igualamos las variables"
   ]
  },
  {
   "cell_type": "code",
   "execution_count": 104,
   "id": "228cb786-1c45-4141-8c51-7111ae82476c",
   "metadata": {},
   "outputs": [],
   "source": [
    "x=data1['Company']"
   ]
  },
  {
   "cell_type": "code",
   "execution_count": 115,
   "id": "406fea9b-56fa-47eb-ba75-0bae632be83b",
   "metadata": {},
   "outputs": [],
   "source": [
    "y=data1['Salary']"
   ]
  },
  {
   "cell_type": "markdown",
   "id": "3b8729e0-69ae-4a04-93e2-f5758ca5e057",
   "metadata": {},
   "source": [
    "### Se le agrega una etiqueta"
   ]
  },
  {
   "cell_type": "code",
   "execution_count": 88,
   "id": "04d09ef1-0e5d-447a-8c72-ef4129a9297d",
   "metadata": {},
   "outputs": [
    {
     "data": {
      "text/plain": [
       "Text(0.5, 0, 'Salario (USD)')"
      ]
     },
     "execution_count": 88,
     "metadata": {},
     "output_type": "execute_result"
    },
    {
     "data": {
      "image/png": "[encoded data removed]",
      "text/plain": [
       "<Figure size 640x480 with 1 Axes>"
      ]
     },
     "metadata": {},
     "output_type": "display_data"
    }
   ],
   "source": [
    "plt.xlabel(\"Salario (USD)\")"
   ]
  },
  {
   "cell_type": "code",
   "execution_count": 90,
   "id": "5f31f155-ecd6-41ff-8899-1ce03a779836",
   "metadata": {},
   "outputs": [
    {
     "data": {
      "text/plain": [
       "Text(0, 0.5, 'Frecuencia')"
      ]
     },
     "execution_count": 90,
     "metadata": {},
     "output_type": "execute_result"
    },
    {
     "data": {
      "image/png": "[encoded data removed]",
      "text/plain": [
       "<Figure size 640x480 with 1 Axes>"
      ]
     },
     "metadata": {},
     "output_type": "display_data"
    }
   ],
   "source": [
    "plt.ylabel(\"Frecuencia\")"
   ]
  },
  {
   "cell_type": "markdown",
   "id": "ec55abde-55d1-467a-8662-c04c9aa12a10",
   "metadata": {},
   "source": [
    "### Se agrega la leyenda y el grid"
   ]
  },
  {
   "cell_type": "code",
   "execution_count": 92,
   "id": "800761cf-93b4-4b47-9af4-a3e00b305649",
   "metadata": {},
   "outputs": [
    {
     "data": {
      "text/plain": [
       "<matplotlib.legend.Legend at 0x7c8814edd960>"
      ]
     },
     "execution_count": 92,
     "metadata": {},
     "output_type": "execute_result"
    },
    {
     "data": {
      "image/png": "[encoded data removed]",
      "text/plain": [
       "<Figure size 640x480 with 1 Axes>"
      ]
     },
     "metadata": {},
     "output_type": "display_data"
    }
   ],
   "source": [
    "plt.legend([\"Salarios\"])"
   ]
  },
  {
   "cell_type": "markdown",
   "id": "cccf66c4-6dae-4646-a017-cf661ebf6d03",
   "metadata": {},
   "source": [
    "### nos muestra las lineas de referencia"
   ]
  },
  {
   "cell_type": "code",
   "execution_count": 120,
   "id": "9ae3861b-3f71-4e03-a1e6-df0f1cf4970b",
   "metadata": {},
   "outputs": [
    {
     "data": {
      "image/png": "[encoded data removed]",
      "text/plain": [
       "<Figure size 640x480 with 1 Axes>"
      ]
     },
     "metadata": {},
     "output_type": "display_data"
    }
   ],
   "source": [
    "plt.grid(True)"
   ]
  },
  {
   "cell_type": "markdown",
   "id": "af0fad67-b45c-49f7-ae22-81bbc77e0ae8",
   "metadata": {},
   "source": [
    "### Por ultimo mostramos la grafica"
   ]
  },
  {
   "cell_type": "code",
   "execution_count": 138,
   "id": "d5fdae9f-26a9-4df5-89f9-e5f22e6ab56e",
   "metadata": {},
   "outputs": [
    {
     "data": {
      "image/png": "[encoded data removed]",
      "text/plain": [
       "<Figure size 1000x600 with 1 Axes>"
      ]
     },
     "metadata": {},
     "output_type": "display_data"
    }
   ],
   "source": [
    "\n",
    "\n",
    "# Extraer datos relevantes\n",
    "x = data1['Company'].head(5)\n",
    "y = data1['Salary'].head(5)\n",
    "\n",
    "# Crear la gráfica de barras\n",
    "plt.figure(figsize=(10, 6))\n",
    "plt.bar(x, y, color='skyblue')\n",
    "\n",
    "# Personalización de la gráfica\n",
    "plt.xlabel(\"Empresa\")\n",
    "plt.ylabel(\"Salario (USD)\")\n",
    "plt.xticks(rotation=45)  # Rotar etiquetas para mejor visualización\n",
    "plt.grid(axis='y', linestyle='--', alpha=0.7)\n",
    "\n",
    "# Mostrar la gráfica\n",
    "plt.show()"
   ]
  },
  {
   "cell_type": "markdown",
   "id": "ac1f446a-c3ef-4bf5-9f50-5e1889340366",
   "metadata": {},
   "source": [
    "# Referencia "
   ]
  },
  {
   "cell_type": "markdown",
   "id": "f841e0de-2681-44ab-8bb5-f6e5227c390a",
   "metadata": {},
   "source": [
    "\n",
    "### Harrison, M. (2021). Effective Pandas: Patterns for Data Manipulation. Hairysun."
   ]
  },
  {
   "cell_type": "code",
   "execution_count": null,
   "id": "1790799f-65dd-41e1-a426-7a54d2fa63c3",
   "metadata": {},
   "outputs": [],
   "source": []
  }
 ],
 "metadata": {
  "kernelspec": {
   "display_name": "anaconda-2024.02-py310",
   "language": "python",
   "name": "conda-env-anaconda-2024.02-py310-py"
  },
  "language_info": {
   "codemirror_mode": {
    "name": "ipython",
    "version": 3
   },
   "file_extension": ".py",
   "mimetype": "text/x-python",
   "name": "python",
   "nbconvert_exporter": "python",
   "pygments_lexer": "ipython3",
   "version": "3.10.14"
  }
 },
 "nbformat": 4,
 "nbformat_minor": 5
}
