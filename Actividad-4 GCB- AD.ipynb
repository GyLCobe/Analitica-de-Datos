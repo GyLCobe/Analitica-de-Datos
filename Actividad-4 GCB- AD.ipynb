{
 "cells": [
  {
   "cell_type": "markdown",
   "id": "55f7481a-d6c6-40dc-afa3-501443b9677c",
   "metadata": {},
   "source": [
    "# Actividad 4\n",
    "\n",
    "## Materia>  Analitica de Datos\n",
    "\n",
    "## Alumno> Corona Benitez Gilberto\n",
    "\n"
   ]
  },
  {
   "cell_type": "markdown",
   "id": "2b739223-d9b4-480d-a71d-c98714215fce",
   "metadata": {},
   "source": [
    "## Capitulo 3 > Estructuras \n",
    "Introduce las estructuras de datos fundamentales en Pandas: Series (estructuras unidimensionales) y DataFrame (estructuras bidimensionales). Explica su relación con otras estructuras como listas y diccionarios en Python, destacando su importancia en la manipulación de datos. Además, enfatiza la necesidad de comprender las diferencias entre estas estructuras para elegir la más eficiente según el problema a resolver.\n",
    "me\n"
   ]
  },
  {
   "cell_type": "markdown",
   "id": "9954a82d-f7fd-48cc-9605-29b29d0acc35",
   "metadata": {
    "jp-MarkdownHeadingCollapsed": true
   },
   "source": [
    "## Capitulo 4 > Series Introduccion \n",
    "Se detalla el concepto de Series, su similitud con los arrays de NumPy y la gestión de valores faltantes (NaN). También se menciona el uso de datos categóricos para optimizar memoria y mejorar el rendimiento de los análisis.\n",
    "\n",
    "Se explican métodos fundamentales como head(), tail(), describe(), value_counts() y su aplicación en el análisis exploratorio de datos. Además, se introduce la posibilidad de indexación personalizada y la manipulación de etiquetas de los índices.\n"
   ]
  },
  {
   "cell_type": "markdown",
   "id": "9255c923-78c7-45da-9ddc-c817b6c89720",
   "metadata": {},
   "source": [
    "## Capitulo 5  > Series Deep Dive\n",
    "profundiza en Series, cubriendo sus atributos, métodos y operaciones fundamentales como indexación, filtrado y manipulación de datos. También se presentan estrategias para importar datos en este formato.\n",
    "\n",
    "Se abordan técnicas avanzadas de manejo de Series, incluyendo operaciones matemáticas, uso de máscaras booleanas para filtrar datos y la modificación de índices. Se muestra cómo aplicar transformaciones y funciones personalizadas mediante apply() y map(), facilitando la manipulación eficiente de datos en análisis complejos."
   ]
  },
  {
   "cell_type": "markdown",
   "id": "eaacfb0f-652d-4ab4-93d7-978ab0e1cf0a",
   "metadata": {},
   "source": [
    "## Capitulo 6 > Operadores y metodos magicos \n",
    "Se aborda la alineación de indices y la propagación de valores en operaciones matematicas y lógicas dentro de Series y DataFrame.\n",
    "\n",
    "Se enfatiza cómo Pandas maneja de forma automática la alineación de datos en operaciones aritméticas y cómo se pueden utilizar operadores como +, -, *, /, //, % y **\n"
   ]
  },
  {
   "cell_type": "markdown",
   "id": "acb5feeb-2535-4ef7-844f-ddb4c449c496",
   "metadata": {},
   "source": [
    "## Capitulo 7 > Metodos Agregados \n",
    "Introduce metodos de agregación como count(), sum(), mean(), min() y max(). Se destaca el uso de .agg() para aplicar múltiples funciones de agregación de manera simultánea sobre los datos.\n",
    "\n",
    "Además, se presentan métodos avanzados como groupby() para la agregación de datos en función de categorías específicas, facilitando análisis más detallados y segmentados. Se explican también estrategias para realizar cálculos personalizados mediante apply()."
   ]
  },
  {
   "cell_type": "markdown",
   "id": "e6d9978e-bb8f-493a-9920-4ae56ed6e449",
   "metadata": {},
   "source": [
    "## Capitulo 8 > Metodos de conversión \n",
    "\n",
    "Describe los diferentes métodos de conversión de tipos de datos dentro de Pandas, enfatizando la optimización del uso de memoria y la interoperabilidad entre Series, DataFrame y estructuras externas como listas y diccionarios de Python."
   ]
  },
  {
   "cell_type": "markdown",
   "id": "0dc2e415-405e-4ef5-a6af-d377f8d53a98",
   "metadata": {},
   "source": [
    "## Capitulo 9 > Filtrado e indexación\n",
    "Explica los mecanismos de selección de datos en Pandas mediante loc[], iloc[] y filtrado condicional. Se resalta la importancia de la indexación para realizar manipulaciones eficientes y precisas sobre conjuntos de datos.\n"
   ]
  },
  {
   "cell_type": "markdown",
   "id": "8507d07b-ec8d-4a1e-800a-f7f87accfec7",
   "metadata": {},
   "source": [
    "## Capitulo 16 > Consejos \n",
    "Se destacan estrategias para reducir el uso de memoria, optimizar operaciones vectorizadas y utilizar estructuras de datos adecuadas según el tipo de análisis.\n",
    "\n",
    "Se incluyen técnicas para optimizar el uso de dtypes, evitar bucles innecesarios mediante operaciones vectorizadas, y aprovechar las funciones de paralelización de Pandas."
   ]
  },
  {
   "cell_type": "markdown",
   "id": "e89c2f4e-4261-48a7-abe8-638777cb5b69",
   "metadata": {},
   "source": [
    "# Referencias\n",
    "Harrison, M. (2021). Effective Pandas: Patterns for Data Manipulation. Hairysun."
   ]
  },
  {
   "cell_type": "code",
   "execution_count": null,
   "id": "7e59e84f-cbed-4acd-bb38-c59c4511c1e8",
   "metadata": {},
   "outputs": [],
   "source": []
  }
 ],
 "metadata": {
  "kernelspec": {
   "display_name": "anaconda-2024.02-py310",
   "language": "python",
   "name": "conda-env-anaconda-2024.02-py310-py"
  },
  "language_info": {
   "codemirror_mode": {
    "name": "ipython",
    "version": 3
   },
   "file_extension": ".py",
   "mimetype": "text/x-python",
   "name": "python",
   "nbconvert_exporter": "python",
   "pygments_lexer": "ipython3",
   "version": "3.10.14"
  }
 },
 "nbformat": 4,
 "nbformat_minor": 5
}
