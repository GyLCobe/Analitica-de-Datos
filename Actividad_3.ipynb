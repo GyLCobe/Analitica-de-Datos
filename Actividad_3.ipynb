{
 "cells": [
  {
   "cell_type": "markdown",
   "id": "b5ee8227",
   "metadata": {},
   "source": [
    "# Actividad 3 \n",
    "## Corona Benítez Gilberto\n",
    "Materia : Analitica de Datos \n",
    "\n",
    "\n"
   ]
  },
  {
   "cell_type": "markdown",
   "id": "34a30558",
   "metadata": {},
   "source": [
    "## 1. Variables, Tipos de Variables y Operadores\n",
    "\n",
    "Las **variables** son espacios en memoria donde almacenamos valores. Python tiene varios **tipos de datos**, como:\n",
    "- `int`: Números enteros.\n",
    "- `float`: Números decimales.\n",
    "- `str`: Cadenas de texto.\n",
    "- `bool`: Valores `True` o `False`.\n",
    "\n",
    "Aquí algunos ejemplos de variables y operadores"
   ]
  },
  {
   "cell_type": "code",
   "execution_count": 11,
   "id": "a151e811",
   "metadata": {},
   "outputs": [
    {
     "name": "stdout",
     "output_type": "stream",
     "text": [
      "Suma: 13.14\n",
      "Multiplicación: 20\n",
      "¿10 es mayor que 3.14?: True\n"
     ]
    }
   ],
   "source": [
    "\n",
    "# Declaración de variables\n",
    "entero = 10       # Tipo int\n",
    "decimal = 3.14    # Tipo float\n",
    "texto = \"Hola\"    # Tipo str\n",
    "booleano = True   # Tipo bool\n",
    "\n",
    "# Operadores aritméticos\n",
    "suma = entero + decimal\n",
    "multiplicacion = entero * 2\n",
    "\n",
    "# Operadores de comparación\n",
    "comparacion = entero > decimal\n",
    "\n",
    "# Mostrar valores\n",
    "print(\"Suma:\", suma)\n",
    "print(\"Multiplicación:\", multiplicacion)\n",
    "print(\"¿10 es mayor que 3.14?:\", comparacion)\n"
   ]
  },
  {
   "cell_type": "markdown",
   "id": "ec7007ea",
   "metadata": {},
   "source": [
    "## 2. Funciones y Módulos\n",
    "\n",
    "Las **funciones** en Python nos permiten reutilizar código. Podemos definirlas con def y llamarlas cuando las necesitemos."
   ]
  },
  {
   "cell_type": "code",
   "execution_count": 14,
   "id": "0596e55a",
   "metadata": {},
   "outputs": [
    {
     "name": "stdout",
     "output_type": "stream",
     "text": [
      "Hola, Ana!\n"
     ]
    }
   ],
   "source": [
    "\n",
    "# Definición de una función\n",
    "def saludar(nombre):\n",
    "    return f\"Hola, {nombre}!\"\n",
    "\n",
    "# Uso de la función\n",
    "print(saludar(\"Ana\"))\n"
   ]
  },
  {
   "cell_type": "markdown",
   "id": "5ae3de0b",
   "metadata": {},
   "source": [
    "También podemos importar **módulos** para ampliar las funcionalidades de Python."
   ]
  },
  {
   "cell_type": "code",
   "execution_count": 17,
   "id": "11b4d111",
   "metadata": {},
   "outputs": [
    {
     "name": "stdout",
     "output_type": "stream",
     "text": [
      "Raíz cuadrada de 25: 5.0\n"
     ]
    }
   ],
   "source": [
    "\n",
    "import math  # Importamos el módulo math\n",
    "\n",
    "# Usamos funciones del módulo math\n",
    "raiz = math.sqrt(25)\n",
    "print(\"Raíz cuadrada de 25:\", raiz)\n"
   ]
  },
  {
   "cell_type": "markdown",
   "id": "e7492d7e",
   "metadata": {},
   "source": [
    "## 3. Estructuras de Control\n",
    "\n",
    "Las **estructuras de control** nos permiten tomar decisiones (`if-else`) y repetir acciones (`for`, `while`)."
   ]
  },
  {
   "cell_type": "code",
   "execution_count": 21,
   "id": "1986b030",
   "metadata": {},
   "outputs": [
    {
     "name": "stdout",
     "output_type": "stream",
     "text": [
      "Eres mayor de edad\n"
     ]
    }
   ],
   "source": [
    "\n",
    "# Estructura if-else\n",
    "edad = 18\n",
    "if edad >= 18:\n",
    "    print(\"Eres mayor de edad\") # aqui esta realizando una comparativa entre las dos edades , para corroborar cual edad es mayor y cual no.\n",
    "else:\n",
    "    print(\"Eres menor de edad\")\n"
   ]
  },
  {
   "cell_type": "code",
   "execution_count": 23,
   "id": "8ab8d9a3",
   "metadata": {},
   "outputs": [
    {
     "name": "stdout",
     "output_type": "stream",
     "text": [
      "Iteración: 0\n",
      "Iteración: 1\n",
      "Iteración: 2\n",
      "Iteración: 3\n",
      "Iteración: 4\n"
     ]
    }
   ],
   "source": [
    "\n",
    "# Bucle for que realiza 5 iteraciones\n",
    "for i in range(5):  \n",
    "    print(\"Iteración:\", i)  # Muestra el número de la iteración actual\n",
    "\n"
   ]
  },
  {
   "cell_type": "code",
   "execution_count": 25,
   "id": "8d978567",
   "metadata": {},
   "outputs": [
    {
     "name": "stdout",
     "output_type": "stream",
     "text": [
      "Contador: 0\n",
      "Contador: 1\n",
      "Contador: 2\n"
     ]
    }
   ],
   "source": [
    "\n",
    "# Bucle while que cuenta desde 0 hasta 2\n",
    "contador = 0  # Inicializamos la variable contador\n",
    "\n",
    "while contador < 3:  \n",
    "    print(\"Contador:\", contador)  # Imprime el valor actual de contador\n",
    "    contador += 1  # Incrementa el contador en 1 en cada iteración\n",
    "    \n",
    "\n"
   ]
  },
  {
   "cell_type": "code",
   "execution_count": null,
   "id": "a018e785-9baa-474c-8e40-19371d630a24",
   "metadata": {},
   "outputs": [],
   "source": []
  }
 ],
 "metadata": {
  "kernelspec": {
   "display_name": "Python [conda env:Orange]",
   "language": "python",
   "name": "conda-env-Orange-py"
  },
  "language_info": {
   "codemirror_mode": {
    "name": "ipython",
    "version": 3
   },
   "file_extension": ".py",
   "mimetype": "text/x-python",
   "name": "python",
   "nbconvert_exporter": "python",
   "pygments_lexer": "ipython3",
   "version": "3.9.12"
  }
 },
 "nbformat": 4,
 "nbformat_minor": 5
}
