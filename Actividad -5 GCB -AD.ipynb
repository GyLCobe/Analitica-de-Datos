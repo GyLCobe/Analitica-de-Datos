{
 "cells": [
  {
   "cell_type": "markdown",
   "id": "b0b006e8-2da2-4833-b96b-d84180320e73",
   "metadata": {},
   "source": [
    "# Actividad 5\n",
    "\n",
    "## Materia>  Analitica de Datos\n",
    "\n",
    "## Alumno> Corona Benitez Gilberto\n"
   ]
  },
  {
   "cell_type": "markdown",
   "id": "aee12a37-f8e6-4764-ad48-98380c52de91",
   "metadata": {},
   "source": [
    "## Listas \n",
    "- Las Listas en Python son estructuras de datos ordenadas y mutables, Permiten almacenar multiples valores y modificarlos.\n",
    "- Se crean usando corchetes \" [] \""
   ]
  },
  {
   "cell_type": "markdown",
   "id": "9382720c-a4b6-4ceb-a97e-c07a779330f3",
   "metadata": {},
   "source": [
    "### Ejemplo "
   ]
  },
  {
   "cell_type": "code",
   "execution_count": 22,
   "id": "3584d342-f023-4c12-bae0-fc86b8e5a322",
   "metadata": {},
   "outputs": [
    {
     "name": "stdout",
     "output_type": "stream",
     "text": [
      "[1, 2, 3, 4, 5, 6]\n"
     ]
    }
   ],
   "source": [
    "mi_lista = [1, 2, 3, 4, 5]\n",
    "mi_lista.append(6)  # es para agrega un elemento\n",
    "print(mi_lista)  # [1, 2, 3, 4, 5, 6]"
   ]
  },
  {
   "cell_type": "markdown",
   "id": "118fb082-8fe4-4099-9b04-db7ba85585a1",
   "metadata": {},
   "source": [
    "## Tuplas \n",
    "- Las tuplas son similares a las listas, pero son inmutables , osea que no se pueden modificar despues de crearlas y estas se definen con un parentesis"
   ]
  },
  {
   "cell_type": "markdown",
   "id": "85bc87fb-28e4-455f-978f-79f6eb20cdc7",
   "metadata": {},
   "source": [
    "## Ejemplo "
   ]
  },
  {
   "cell_type": "code",
   "execution_count": 18,
   "id": "7efd468c-4e75-49b6-a1ef-859bde4900de",
   "metadata": {},
   "outputs": [
    {
     "name": "stdout",
     "output_type": "stream",
     "text": [
      "1\n"
     ]
    }
   ],
   "source": [
    "mi_tupla = (1, 2, 3, 4, 5)\n",
    "print(mi_tupla[0]) # Esto para acceder al primer elemento "
   ]
  },
  {
   "cell_type": "markdown",
   "id": "9969b201-fa09-4a41-b861-58201bf963bf",
   "metadata": {},
   "source": [
    "## Diccionarios \n",
    "- Los diccionarios almacenan pares clave- valor, permitiendo acceder a los valores mediante una clave, se definen con llaves \" { } \""
   ]
  },
  {
   "cell_type": "markdown",
   "id": "10b55b64-6cde-494d-9020-0a288c40ba3d",
   "metadata": {},
   "source": [
    "## Ejemplo"
   ]
  },
  {
   "cell_type": "code",
   "execution_count": 32,
   "id": "2a85098f-3608-4d83-afc1-95a9a181b2b0",
   "metadata": {},
   "outputs": [
    {
     "name": "stdout",
     "output_type": "stream",
     "text": [
      "Gil\n",
      "25\n"
     ]
    }
   ],
   "source": [
    "mi_diccionario = {\"nombre\": \"Gil\", \"edad\": 25, \"ciudad\": \"GDL\"}\n",
    "print(mi_diccionario[\"nombre\"])  # Gil\n",
    "print(mi_diccionario[\"edad\"])\n"
   ]
  },
  {
   "cell_type": "markdown",
   "id": "b24382c9-8bcf-439e-a164-96a8ffb88768",
   "metadata": {},
   "source": [
    "## Conjuntos \n",
    "- Los conjuntos en Python son colleciones desordenadas de elementos unicos. Se usan para eliminar duplicados y realizar operaciones matematicas como uniones e intersecciones y se definen con llaves \" { } \"\n",
    "- o con un Set()."
   ]
  },
  {
   "cell_type": "markdown",
   "id": "5d768750-17e1-4c26-b97f-8c17c7c212bc",
   "metadata": {},
   "source": [
    "## Ejemplo"
   ]
  },
  {
   "cell_type": "code",
   "execution_count": 39,
   "id": "d6ac3fab-e9b5-43b5-94aa-c2b82f3ddc6d",
   "metadata": {},
   "outputs": [
    {
     "name": "stdout",
     "output_type": "stream",
     "text": [
      "{1, 2, 3, 4, 5}\n"
     ]
    }
   ],
   "source": [
    "mi_conjunto = {1, 2, 3, 4, 5, 5, 3}\n",
    "print(mi_conjunto) # {1,2,3,4,5} sin duplicados "
   ]
  },
  {
   "cell_type": "code",
   "execution_count": 41,
   "id": "310c1e0f-7010-4606-8ed4-0a56189e36cb",
   "metadata": {},
   "outputs": [
    {
     "name": "stdout",
     "output_type": "stream",
     "text": [
      "Unión: {1, 2, 3, 4, 5, 6, 7, 8}\n"
     ]
    }
   ],
   "source": [
    "conjunto_a = {1, 2, 3, 4, 5}\n",
    "conjunto_b = {4, 5, 6, 7, 8}\n",
    "\n",
    "union = conjunto_a | conjunto_b # Union , conbina los elementos de ambos conjuntos, sin repetir \n",
    "print(\"Unión:\", union)  # {1, 2, 3, 4, 5, 6, 7, 8}\n"
   ]
  },
  {
   "cell_type": "code",
   "execution_count": null,
   "id": "5ecaf5fc-e02c-40e0-961f-d300f482ebca",
   "metadata": {},
   "outputs": [],
   "source": []
  }
 ],
 "metadata": {
  "kernelspec": {
   "display_name": "anaconda-ai-2024.04-py310",
   "language": "python",
   "name": "conda-env-anaconda-ai-2024.04-py310-py"
  },
  "language_info": {
   "codemirror_mode": {
    "name": "ipython",
    "version": 3
   },
   "file_extension": ".py",
   "mimetype": "text/x-python",
   "name": "python",
   "nbconvert_exporter": "python",
   "pygments_lexer": "ipython3",
   "version": "3.10.13"
  }
 },
 "nbformat": 4,
 "nbformat_minor": 5
}
